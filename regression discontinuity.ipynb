{
 "cells": [
  {
   "cell_type": "markdown",
   "metadata": {},
   "source": [
    "Question: will issue refunds for late order affect customers lifetime value (LTV)\n",
    "reference: https://colab.research.google.com/drive/1QHi9egj3uXEqcD7_EtRxOVnxM26IzKAC?usp=sharing#scrollTo=0771d00e-1342-4d1f-888a-4d9e24263323\n",
    "\n"
   ]
  },
  {
   "cell_type": "markdown",
   "metadata": {},
   "source": [
    "Model:\n",
    "$\n",
    "Y_i = \\beta_0+\\beta_1(R_i-c)+\\beta_2 1_{R_i>=c}+\\beta_3(R_i-c) 1_{R_i>=c}+\\epsilon_i\n",
    "$\n",
    "where c is the cutoff,$R_i$ is order lateness (in minutes)."
   ]
  },
  {
   "cell_type": "code",
   "execution_count": 1,
   "metadata": {},
   "outputs": [],
   "source": [
    "import pandas as pd\n",
    "import numpy as np\n",
    "np.random.seed(42)\n",
    "\n",
    "import matplotlib.pyplot as plt\n",
    "import seaborn as sns\n",
    "%matplotlib inline\n",
    "\n",
    "import statsmodels.formula.api as smf"
   ]
  },
  {
   "cell_type": "markdown",
   "metadata": {},
   "source": [
    "# data generation"
   ]
  },
  {
   "cell_type": "code",
   "execution_count": 2,
   "metadata": {},
   "outputs": [],
   "source": [
    "# paramter values \n",
    "LOWER, CUTOFF, UPPER = 0, 30, 60\n",
    "beta0, beta1, beta2, beta3 = 50, -0.8, 10, -0.1"
   ]
  },
  {
   "cell_type": "code",
   "execution_count": 8,
   "metadata": {},
   "outputs": [],
   "source": [
    "def generate_data(n, std, b0=beta0,  b1=beta1, b2=beta2, b3=beta3, lower=LOWER,\n",
    "                 upper=UPPER, cutoff=CUTOFF):\n",
    "    \n",
    "    #generate order lateness time\n",
    "    min_late = np.random.uniform(lower,upper,n)\n",
    "    \n",
    "    # label the refunded order\n",
    "    refunded = np.where(min_late < cutoff, 0, 1)\n",
    "    \n",
    "    # generate error term\n",
    "    errors = np.random.normal(0, std, n)\n",
    "    \n",
    "    # predict LTV using the model\n",
    "    \n",
    "    ltv = (b0\n",
    "           +b1 * (min_late - cutoff)\n",
    "           +b2 * refunded\n",
    "           +b3 * (min_late - cutoff) * refunded\n",
    "           +errors\n",
    "    )\n",
    "    \n",
    "    # create the dataset\n",
    "    df = pd.DataFrame({'min_late': min_late, 'ltv': ltv})\n",
    "    \n",
    "    # center the min_late variable around cutoff\n",
    "    df['min_late_centered'] = df['min_late'] - cutoff\n",
    "    \n",
    "    # create indicator for treatment (refund)\n",
    "    df['refunded'] = df['min_late'].apply(lambda x: 1 if x>= cutoff else 0)\n",
    "    \n",
    "    return df\n",
    "    \n",
    "    "
   ]
  },
  {
   "cell_type": "code",
   "execution_count": 9,
   "metadata": {},
   "outputs": [
    {
     "data": {
      "text/html": [
       "<div>\n",
       "<style scoped>\n",
       "    .dataframe tbody tr th:only-of-type {\n",
       "        vertical-align: middle;\n",
       "    }\n",
       "\n",
       "    .dataframe tbody tr th {\n",
       "        vertical-align: top;\n",
       "    }\n",
       "\n",
       "    .dataframe thead th {\n",
       "        text-align: right;\n",
       "    }\n",
       "</style>\n",
       "<table border=\"1\" class=\"dataframe\">\n",
       "  <thead>\n",
       "    <tr style=\"text-align: right;\">\n",
       "      <th></th>\n",
       "      <th>min_late</th>\n",
       "      <th>ltv</th>\n",
       "      <th>min_late_centered</th>\n",
       "      <th>refunded</th>\n",
       "    </tr>\n",
       "  </thead>\n",
       "  <tbody>\n",
       "    <tr>\n",
       "      <th>0</th>\n",
       "      <td>24.279325</td>\n",
       "      <td>45.723276</td>\n",
       "      <td>-5.720675</td>\n",
       "      <td>0</td>\n",
       "    </tr>\n",
       "    <tr>\n",
       "      <th>1</th>\n",
       "      <td>25.742880</td>\n",
       "      <td>45.679327</td>\n",
       "      <td>-4.257120</td>\n",
       "      <td>0</td>\n",
       "    </tr>\n",
       "    <tr>\n",
       "      <th>2</th>\n",
       "      <td>13.606173</td>\n",
       "      <td>42.905038</td>\n",
       "      <td>-16.393827</td>\n",
       "      <td>0</td>\n",
       "    </tr>\n",
       "    <tr>\n",
       "      <th>3</th>\n",
       "      <td>27.352955</td>\n",
       "      <td>53.817083</td>\n",
       "      <td>-2.647045</td>\n",
       "      <td>0</td>\n",
       "    </tr>\n",
       "    <tr>\n",
       "      <th>4</th>\n",
       "      <td>57.195291</td>\n",
       "      <td>33.915188</td>\n",
       "      <td>27.195291</td>\n",
       "      <td>1</td>\n",
       "    </tr>\n",
       "  </tbody>\n",
       "</table>\n",
       "</div>"
      ],
      "text/plain": [
       "    min_late        ltv  min_late_centered  refunded\n",
       "0  24.279325  45.723276          -5.720675         0\n",
       "1  25.742880  45.679327          -4.257120         0\n",
       "2  13.606173  42.905038         -16.393827         0\n",
       "3  27.352955  53.817083          -2.647045         0\n",
       "4  57.195291  33.915188          27.195291         1"
      ]
     },
     "execution_count": 9,
     "metadata": {},
     "output_type": "execute_result"
    }
   ],
   "source": [
    "# generate data for 2000 late orders\n",
    "df = generate_data(2000, 10)\n",
    "df.head()"
   ]
  },
  {
   "cell_type": "code",
   "execution_count": 10,
   "metadata": {},
   "outputs": [],
   "source": [
    "# model fitting\n",
    "model = smf.wls('ltv~min_late_centered * refunded',df).fit()"
   ]
  },
  {
   "cell_type": "code",
   "execution_count": 11,
   "metadata": {},
   "outputs": [
    {
     "data": {
      "text/html": [
       "<table class=\"simpletable\">\n",
       "<caption>WLS Regression Results</caption>\n",
       "<tr>\n",
       "  <th>Dep. Variable:</th>           <td>ltv</td>       <th>  R-squared:         </th> <td>   0.521</td> \n",
       "</tr>\n",
       "<tr>\n",
       "  <th>Model:</th>                   <td>WLS</td>       <th>  Adj. R-squared:    </th> <td>   0.520</td> \n",
       "</tr>\n",
       "<tr>\n",
       "  <th>Method:</th>             <td>Least Squares</td>  <th>  F-statistic:       </th> <td>   722.4</td> \n",
       "</tr>\n",
       "<tr>\n",
       "  <th>Date:</th>             <td>Wed, 06 Apr 2022</td> <th>  Prob (F-statistic):</th> <td>6.16e-318</td>\n",
       "</tr>\n",
       "<tr>\n",
       "  <th>Time:</th>                 <td>14:01:19</td>     <th>  Log-Likelihood:    </th> <td> -7457.7</td> \n",
       "</tr>\n",
       "<tr>\n",
       "  <th>No. Observations:</th>      <td>  2000</td>      <th>  AIC:               </th> <td>1.492e+04</td>\n",
       "</tr>\n",
       "<tr>\n",
       "  <th>Df Residuals:</th>          <td>  1996</td>      <th>  BIC:               </th> <td>1.495e+04</td>\n",
       "</tr>\n",
       "<tr>\n",
       "  <th>Df Model:</th>              <td>     3</td>      <th>                     </th>     <td> </td>    \n",
       "</tr>\n",
       "<tr>\n",
       "  <th>Covariance Type:</th>      <td>nonrobust</td>    <th>                     </th>     <td> </td>    \n",
       "</tr>\n",
       "</table>\n",
       "<table class=\"simpletable\">\n",
       "<tr>\n",
       "               <td></td>                 <th>coef</th>     <th>std err</th>      <th>t</th>      <th>P>|t|</th>  <th>[0.025</th>    <th>0.975]</th>  \n",
       "</tr>\n",
       "<tr>\n",
       "  <th>Intercept</th>                  <td>   49.6451</td> <td>    0.625</td> <td>   79.428</td> <td> 0.000</td> <td>   48.419</td> <td>   50.871</td>\n",
       "</tr>\n",
       "<tr>\n",
       "  <th>min_late_centered</th>          <td>   -0.8230</td> <td>    0.036</td> <td>  -22.970</td> <td> 0.000</td> <td>   -0.893</td> <td>   -0.753</td>\n",
       "</tr>\n",
       "<tr>\n",
       "  <th>refunded</th>                   <td>   10.1037</td> <td>    0.898</td> <td>   11.249</td> <td> 0.000</td> <td>    8.342</td> <td>   11.865</td>\n",
       "</tr>\n",
       "<tr>\n",
       "  <th>min_late_centered:refunded</th> <td>   -0.0181</td> <td>    0.051</td> <td>   -0.353</td> <td> 0.724</td> <td>   -0.119</td> <td>    0.083</td>\n",
       "</tr>\n",
       "</table>\n",
       "<table class=\"simpletable\">\n",
       "<tr>\n",
       "  <th>Omnibus:</th>       <td> 1.020</td> <th>  Durbin-Watson:     </th> <td>   1.995</td>\n",
       "</tr>\n",
       "<tr>\n",
       "  <th>Prob(Omnibus):</th> <td> 0.601</td> <th>  Jarque-Bera (JB):  </th> <td>   0.999</td>\n",
       "</tr>\n",
       "<tr>\n",
       "  <th>Skew:</th>          <td> 0.055</td> <th>  Prob(JB):          </th> <td>   0.607</td>\n",
       "</tr>\n",
       "<tr>\n",
       "  <th>Kurtosis:</th>      <td> 3.006</td> <th>  Cond. No.          </th> <td>    90.7</td>\n",
       "</tr>\n",
       "</table><br/><br/>Notes:<br/>[1] Standard Errors assume that the covariance matrix of the errors is correctly specified."
      ],
      "text/plain": [
       "<class 'statsmodels.iolib.summary.Summary'>\n",
       "\"\"\"\n",
       "                            WLS Regression Results                            \n",
       "==============================================================================\n",
       "Dep. Variable:                    ltv   R-squared:                       0.521\n",
       "Model:                            WLS   Adj. R-squared:                  0.520\n",
       "Method:                 Least Squares   F-statistic:                     722.4\n",
       "Date:                Wed, 06 Apr 2022   Prob (F-statistic):          6.16e-318\n",
       "Time:                        14:01:19   Log-Likelihood:                -7457.7\n",
       "No. Observations:                2000   AIC:                         1.492e+04\n",
       "Df Residuals:                    1996   BIC:                         1.495e+04\n",
       "Df Model:                           3                                         \n",
       "Covariance Type:            nonrobust                                         \n",
       "==============================================================================================\n",
       "                                 coef    std err          t      P>|t|      [0.025      0.975]\n",
       "----------------------------------------------------------------------------------------------\n",
       "Intercept                     49.6451      0.625     79.428      0.000      48.419      50.871\n",
       "min_late_centered             -0.8230      0.036    -22.970      0.000      -0.893      -0.753\n",
       "refunded                      10.1037      0.898     11.249      0.000       8.342      11.865\n",
       "min_late_centered:refunded    -0.0181      0.051     -0.353      0.724      -0.119       0.083\n",
       "==============================================================================\n",
       "Omnibus:                        1.020   Durbin-Watson:                   1.995\n",
       "Prob(Omnibus):                  0.601   Jarque-Bera (JB):                0.999\n",
       "Skew:                           0.055   Prob(JB):                        0.607\n",
       "Kurtosis:                       3.006   Cond. No.                         90.7\n",
       "==============================================================================\n",
       "\n",
       "Notes:\n",
       "[1] Standard Errors assume that the covariance matrix of the errors is correctly specified.\n",
       "\"\"\""
      ]
     },
     "execution_count": 11,
     "metadata": {},
     "output_type": "execute_result"
    }
   ],
   "source": [
    "# model summary\n",
    "model.summary()"
   ]
  },
  {
   "cell_type": "markdown",
   "metadata": {},
   "source": [
    "The coeffcient of the treatment is the treatment effect: refunded customers has a increased LTV of 10.1 dollars"
   ]
  }
 ],
 "metadata": {
  "kernelspec": {
   "display_name": "Python 3",
   "language": "python",
   "name": "python3"
  },
  "language_info": {
   "codemirror_mode": {
    "name": "ipython",
    "version": 3
   },
   "file_extension": ".py",
   "mimetype": "text/x-python",
   "name": "python",
   "nbconvert_exporter": "python",
   "pygments_lexer": "ipython3",
   "version": "3.8.5"
  }
 },
 "nbformat": 4,
 "nbformat_minor": 4
}
